{
 "cells": [
  {
   "cell_type": "code",
   "execution_count": 1,
   "id": "175b12d4",
   "metadata": {},
   "outputs": [],
   "source": [
    "\"\"\"Log messages to a file.\"\"\"\n",
    "\n",
    "import logging\n",
    "\n",
    "\n",
    "class Logger:\n",
    "    \"\"\"Logger class for logging messages to a file.\"\"\"\n",
    "\n",
    "    def __init__(self, file_name: str, basic_level=logging.INFO):\n",
    "        \"\"\"Initilize logger class with file name to be written and default log level.\n",
    "        Args:\n",
    "            file_name(str): _description_\n",
    "            basic_level(_type_, optional): _description_. Defaults to logging.INFO.\n",
    "        \"\"\"\n",
    "        # Gets or creates a logger\n",
    "        logger = logging.getLogger(__name__)\n",
    "\n",
    "        # set log level\n",
    "        logger.setLevel(basic_level)\n",
    "\n",
    "        # define file handler and set formatter\n",
    "\n",
    "        file_handler = logging.FileHandler(f'../logs/{file_name}')\n",
    "        formatter = logging.Formatter(\n",
    "            '%(asctime)s : %(levelname)s : %(name)s : %(message)s', '%m-%d-%Y %H:%M:%S')\n",
    "\n",
    "        file_handler.setFormatter(formatter)\n",
    "        logger.addHandler(file_handler)\n",
    "\n",
    "        self.logger = logger\n",
    "\n",
    "    def get_app_logger(self) -> logging.Logger:\n",
    "        \"\"\"Return the logger object.\n",
    "        Returns:\n",
    "            logging.Logger: logger object.\n",
    "        \"\"\"\n",
    "        return self.logger"
   ]
  },
  {
   "cell_type": "code",
   "execution_count": null,
   "id": "4ef22c33",
   "metadata": {},
   "outputs": [],
   "source": []
  }
 ],
 "metadata": {
  "kernelspec": {
   "display_name": "Python 3 (ipykernel)",
   "language": "python",
   "name": "python3"
  },
  "language_info": {
   "codemirror_mode": {
    "name": "ipython",
    "version": 3
   },
   "file_extension": ".py",
   "mimetype": "text/x-python",
   "name": "python",
   "nbconvert_exporter": "python",
   "pygments_lexer": "ipython3",
   "version": "3.9.12"
  }
 },
 "nbformat": 4,
 "nbformat_minor": 5
}
