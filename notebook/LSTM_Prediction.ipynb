{
 "cells": [
  {
   "cell_type": "code",
   "execution_count": null,
   "id": "0b4badef",
   "metadata": {
    "colab": {
     "base_uri": "https://localhost:8080/"
    },
    "id": "0b4badef",
    "outputId": "88ad77d9-13fb-40a3-d46b-ec80bfb6c8d3"
   },
   "outputs": [
    {
     "name": "stdout",
     "output_type": "stream",
     "text": [
      "Mounted at /content/drive\n"
     ]
    }
   ],
   "source": [
    "from google.colab import drive\n",
    "drive.mount('/content/drive')"
   ]
  },
  {
   "cell_type": "code",
   "execution_count": 1,
   "id": "RDrRZkqLIYHY",
   "metadata": {
    "id": "RDrRZkqLIYHY"
   },
   "outputs": [],
   "source": [
    "import numpy as np\n",
    "import pandas as pd\n",
    "import seaborn as sns\n",
    "import matplotlib.pyplot as plt\n",
    "\n",
    "from statsmodels.tsa.stattools import adfuller \n",
    "from sklearn.preprocessing import MinMaxScaler \n",
    "import tensorflow as tf\n",
    "from keras.models import Sequential\n",
    "from keras.layers import Dense\n",
    "from keras.layers import LSTM \n",
    "\n",
    "import os\n",
    "import sys\n",
    "import warnings\n",
    "import random"
   ]
  },
  {
   "cell_type": "code",
   "execution_count": 2,
   "id": "MUk_BIhwJHq2",
   "metadata": {
    "id": "MUk_BIhwJHq2"
   },
   "outputs": [],
   "source": [
    "#notebook reproducible \n",
    "np.random.seed(42)\n",
    "random.seed(42)"
   ]
  },
  {
   "cell_type": "code",
   "execution_count": 3,
   "id": "5a44362c",
   "metadata": {},
   "outputs": [],
   "source": [
    "sys.path.append(os.path.abspath(os.path.join('../scripts')))"
   ]
  },
  {
   "cell_type": "markdown",
   "id": "-3A0zNN4JcZ3",
   "metadata": {
    "id": "-3A0zNN4JcZ3"
   },
   "source": [
    "Data Ingestion and Load"
   ]
  },
  {
   "cell_type": "code",
   "execution_count": 4,
   "id": "soT5wbnMJUe1",
   "metadata": {
    "colab": {
     "base_uri": "https://localhost:8080/",
     "height": 261
    },
    "id": "soT5wbnMJUe1",
    "outputId": "19ad099c-4a5a-4a93-ada1-83a86c07a659"
   },
   "outputs": [
    {
     "name": "stderr",
     "output_type": "stream",
     "text": [
      "C:\\Users\\Machine\\AppData\\Local\\Temp\\ipykernel_59904\\145361647.py:1: DtypeWarning: Columns (7) have mixed types. Specify dtype option on import or set low_memory=False.\n",
      "  df = pd.read_csv('../data/train_cleaned.csv', parse_dates=['Date'])\n"
     ]
    },
    {
     "name": "stdout",
     "output_type": "stream",
     "text": [
      "The dataset contains 1017209 Sales Data\n"
     ]
    },
    {
     "data": {
      "text/html": [
       "<div>\n",
       "<style scoped>\n",
       "    .dataframe tbody tr th:only-of-type {\n",
       "        vertical-align: middle;\n",
       "    }\n",
       "\n",
       "    .dataframe tbody tr th {\n",
       "        vertical-align: top;\n",
       "    }\n",
       "\n",
       "    .dataframe thead th {\n",
       "        text-align: right;\n",
       "    }\n",
       "</style>\n",
       "<table border=\"1\" class=\"dataframe\">\n",
       "  <thead>\n",
       "    <tr style=\"text-align: right;\">\n",
       "      <th></th>\n",
       "      <th>Date</th>\n",
       "      <th>Store</th>\n",
       "      <th>DayOfWeek</th>\n",
       "      <th>Sales</th>\n",
       "      <th>Open</th>\n",
       "      <th>Promo</th>\n",
       "      <th>StateHoliday</th>\n",
       "      <th>SchoolHoliday</th>\n",
       "      <th>CompetitionDistance</th>\n",
       "      <th>CompetitionOpenSinceMonth</th>\n",
       "      <th>CompetitionOpenSinceYear</th>\n",
       "      <th>Promo2</th>\n",
       "      <th>Promo2SinceWeek</th>\n",
       "      <th>Promo2SinceYear</th>\n",
       "      <th>Year</th>\n",
       "      <th>Month</th>\n",
       "      <th>Day</th>\n",
       "      <th>weekday</th>\n",
       "      <th>weekofyear</th>\n",
       "      <th>weekend</th>\n",
       "      <th>PromoInterval</th>\n",
       "      <th>Assortment</th>\n",
       "      <th>StoreType</th>\n",
       "    </tr>\n",
       "  </thead>\n",
       "  <tbody>\n",
       "    <tr>\n",
       "      <th>0</th>\n",
       "      <td>2015-07-31</td>\n",
       "      <td>1</td>\n",
       "      <td>4</td>\n",
       "      <td>5263.0</td>\n",
       "      <td>1</td>\n",
       "      <td>1</td>\n",
       "      <td>0</td>\n",
       "      <td>1</td>\n",
       "      <td>1270.0</td>\n",
       "      <td>9.0</td>\n",
       "      <td>2008.0</td>\n",
       "      <td>0</td>\n",
       "      <td>22.0</td>\n",
       "      <td>2012.0</td>\n",
       "      <td>2015</td>\n",
       "      <td>7</td>\n",
       "      <td>31</td>\n",
       "      <td>4</td>\n",
       "      <td>31</td>\n",
       "      <td>0</td>\n",
       "      <td>1</td>\n",
       "      <td>0</td>\n",
       "      <td>2</td>\n",
       "    </tr>\n",
       "    <tr>\n",
       "      <th>1</th>\n",
       "      <td>2015-07-31</td>\n",
       "      <td>2</td>\n",
       "      <td>4</td>\n",
       "      <td>6064.0</td>\n",
       "      <td>1</td>\n",
       "      <td>1</td>\n",
       "      <td>0</td>\n",
       "      <td>1</td>\n",
       "      <td>570.0</td>\n",
       "      <td>11.0</td>\n",
       "      <td>2007.0</td>\n",
       "      <td>1</td>\n",
       "      <td>13.0</td>\n",
       "      <td>2010.0</td>\n",
       "      <td>2015</td>\n",
       "      <td>7</td>\n",
       "      <td>31</td>\n",
       "      <td>4</td>\n",
       "      <td>31</td>\n",
       "      <td>0</td>\n",
       "      <td>1</td>\n",
       "      <td>0</td>\n",
       "      <td>0</td>\n",
       "    </tr>\n",
       "    <tr>\n",
       "      <th>2</th>\n",
       "      <td>2015-07-31</td>\n",
       "      <td>3</td>\n",
       "      <td>4</td>\n",
       "      <td>8314.0</td>\n",
       "      <td>1</td>\n",
       "      <td>1</td>\n",
       "      <td>0</td>\n",
       "      <td>1</td>\n",
       "      <td>14130.0</td>\n",
       "      <td>12.0</td>\n",
       "      <td>2006.0</td>\n",
       "      <td>1</td>\n",
       "      <td>14.0</td>\n",
       "      <td>2011.0</td>\n",
       "      <td>2015</td>\n",
       "      <td>7</td>\n",
       "      <td>31</td>\n",
       "      <td>4</td>\n",
       "      <td>31</td>\n",
       "      <td>0</td>\n",
       "      <td>1</td>\n",
       "      <td>0</td>\n",
       "      <td>0</td>\n",
       "    </tr>\n",
       "  </tbody>\n",
       "</table>\n",
       "</div>"
      ],
      "text/plain": [
       "        Date  Store  DayOfWeek   Sales  Open  Promo StateHoliday  \\\n",
       "0 2015-07-31      1          4  5263.0     1      1            0   \n",
       "1 2015-07-31      2          4  6064.0     1      1            0   \n",
       "2 2015-07-31      3          4  8314.0     1      1            0   \n",
       "\n",
       "   SchoolHoliday  CompetitionDistance  CompetitionOpenSinceMonth  \\\n",
       "0              1               1270.0                        9.0   \n",
       "1              1                570.0                       11.0   \n",
       "2              1              14130.0                       12.0   \n",
       "\n",
       "   CompetitionOpenSinceYear  Promo2  Promo2SinceWeek  Promo2SinceYear  Year  \\\n",
       "0                    2008.0       0             22.0           2012.0  2015   \n",
       "1                    2007.0       1             13.0           2010.0  2015   \n",
       "2                    2006.0       1             14.0           2011.0  2015   \n",
       "\n",
       "   Month  Day  weekday  weekofyear  weekend  PromoInterval  Assortment  \\\n",
       "0      7   31        4          31        0              1           0   \n",
       "1      7   31        4          31        0              1           0   \n",
       "2      7   31        4          31        0              1           0   \n",
       "\n",
       "   StoreType  \n",
       "0          2  \n",
       "1          0  \n",
       "2          0  "
      ]
     },
     "execution_count": 4,
     "metadata": {},
     "output_type": "execute_result"
    }
   ],
   "source": [
    "df = pd.read_csv('../data/train_cleaned.csv', parse_dates=['Date'])\n",
    "df.drop(['Unnamed: 0'], axis=1, inplace=True)\n",
    "print(f\"The dataset contains {len(df)} Sales Data\")\n",
    "pd.set_option('display.max_columns', len(df.columns)) # To view all columns , , index_col='Date'\n",
    "pd.set_option('display.max_rows', 100)\n",
    "df.head(3)"
   ]
  },
  {
   "cell_type": "markdown",
   "id": "_NY4q87DLPaz",
   "metadata": {
    "id": "_NY4q87DLPaz"
   },
   "source": [
    "Isolate the Rossmann Store Sales Dataset into Time Series Data"
   ]
  },
  {
   "cell_type": "code",
   "execution_count": 5,
   "id": "wSa14ds9LOji",
   "metadata": {
    "colab": {
     "base_uri": "https://localhost:8080/",
     "height": 394
    },
    "id": "wSa14ds9LOji",
    "outputId": "78cebb36-663e-4c70-8d26-25a5ba6aeafc"
   },
   "outputs": [
    {
     "data": {
      "text/html": [
       "<div>\n",
       "<style scoped>\n",
       "    .dataframe tbody tr th:only-of-type {\n",
       "        vertical-align: middle;\n",
       "    }\n",
       "\n",
       "    .dataframe tbody tr th {\n",
       "        vertical-align: top;\n",
       "    }\n",
       "\n",
       "    .dataframe thead th {\n",
       "        text-align: right;\n",
       "    }\n",
       "</style>\n",
       "<table border=\"1\" class=\"dataframe\">\n",
       "  <thead>\n",
       "    <tr style=\"text-align: right;\">\n",
       "      <th></th>\n",
       "      <th>Sales</th>\n",
       "    </tr>\n",
       "    <tr>\n",
       "      <th>Date</th>\n",
       "      <th></th>\n",
       "    </tr>\n",
       "  </thead>\n",
       "  <tbody>\n",
       "    <tr>\n",
       "      <th>2013-01-01</th>\n",
       "      <td>84.396320</td>\n",
       "    </tr>\n",
       "    <tr>\n",
       "      <th>2013-01-02</th>\n",
       "      <td>6178.525112</td>\n",
       "    </tr>\n",
       "    <tr>\n",
       "      <th>2013-01-03</th>\n",
       "      <td>5660.178027</td>\n",
       "    </tr>\n",
       "    <tr>\n",
       "      <th>2013-01-04</th>\n",
       "      <td>5923.143498</td>\n",
       "    </tr>\n",
       "    <tr>\n",
       "      <th>2013-01-05</th>\n",
       "      <td>5299.056502</td>\n",
       "    </tr>\n",
       "    <tr>\n",
       "      <th>2013-01-06</th>\n",
       "      <td>119.358744</td>\n",
       "    </tr>\n",
       "    <tr>\n",
       "      <th>2013-01-07</th>\n",
       "      <td>9378.052018</td>\n",
       "    </tr>\n",
       "    <tr>\n",
       "      <th>2013-01-08</th>\n",
       "      <td>7742.754709</td>\n",
       "    </tr>\n",
       "    <tr>\n",
       "      <th>2013-01-09</th>\n",
       "      <td>6887.266368</td>\n",
       "    </tr>\n",
       "    <tr>\n",
       "      <th>2013-01-10</th>\n",
       "      <td>6894.739013</td>\n",
       "    </tr>\n",
       "  </tbody>\n",
       "</table>\n",
       "</div>"
      ],
      "text/plain": [
       "                  Sales\n",
       "Date                   \n",
       "2013-01-01    84.396320\n",
       "2013-01-02  6178.525112\n",
       "2013-01-03  5660.178027\n",
       "2013-01-04  5923.143498\n",
       "2013-01-05  5299.056502\n",
       "2013-01-06   119.358744\n",
       "2013-01-07  9378.052018\n",
       "2013-01-08  7742.754709\n",
       "2013-01-09  6887.266368\n",
       "2013-01-10  6894.739013"
      ]
     },
     "execution_count": 5,
     "metadata": {},
     "output_type": "execute_result"
    }
   ],
   "source": [
    "data = df.groupby(\"Date\").agg({\"Sales\": \"mean\"})\n",
    "data.head(10)"
   ]
  },
  {
   "cell_type": "markdown",
   "id": "0y-grsktMBBR",
   "metadata": {
    "id": "0y-grsktMBBR"
   },
   "source": [
    "Check if the Time Series Data is Stationary\n",
    "Correlation between date and sales"
   ]
  },
  {
   "cell_type": "code",
   "execution_count": 6,
   "id": "9uvDeyPRZ5EQ",
   "metadata": {
    "colab": {
     "base_uri": "https://localhost:8080/"
    },
    "id": "9uvDeyPRZ5EQ",
    "outputId": "611a737a-1cfa-4fd5-f5ba-bae89bf5b972"
   },
   "outputs": [
    {
     "name": "stdout",
     "output_type": "stream",
     "text": [
      "ADF Statistic: -5.751267839815723\n",
      "p-value: 5.958868619620615e-07\n"
     ]
    }
   ],
   "source": [
    "adfResult = adfuller(data.Sales.values, autolag='AIC')\n",
    "print(f'ADF Statistic: {adfResult[0]}')\n",
    "print(f'p-value: {adfResult[1]}')"
   ]
  },
  {
   "cell_type": "code",
   "execution_count": 7,
   "id": "4ECj4zSBZ-C8",
   "metadata": {
    "colab": {
     "base_uri": "https://localhost:8080/"
    },
    "id": "4ECj4zSBZ-C8",
    "outputId": "dc154839-0bb8-4272-88a6-b72c5f4e5bb7"
   },
   "outputs": [
    {
     "name": "stdout",
     "output_type": "stream",
     "text": [
      "Data scaled successfully.\n"
     ]
    }
   ],
   "source": [
    "scaler = MinMaxScaler()\n",
    "\n",
    "try:\n",
    "    scaler.fit(data.Sales.values.reshape([-1, 1]))\n",
    "    scaled_array = scaler.transform(data.Sales.values.reshape(-1, 1))\n",
    "    data['SalesScaled'] = scaled_array\n",
    "    data.tail(10)\n",
    "\n",
    "    print(\"Data scaled successfully.\")\n",
    "\n",
    "except Exception as e:\n",
    "    print(f\"Scaling error, {e}\")"
   ]
  },
  {
   "cell_type": "markdown",
   "id": "e3XoDJ3vaUaY",
   "metadata": {
    "id": "e3XoDJ3vaUaY"
   },
   "source": [
    "Differencing the Time Series"
   ]
  },
  {
   "cell_type": "code",
   "execution_count": 8,
   "id": "AZ-iARxYaFn4",
   "metadata": {
    "colab": {
     "base_uri": "https://localhost:8080/"
    },
    "id": "AZ-iARxYaFn4",
    "outputId": "ee1cf792-951e-4345-c12c-cd5e1e321f03"
   },
   "outputs": [
    {
     "data": {
      "text/plain": [
       "0      0.506967\n",
       "1     -0.043121\n",
       "2      0.021876\n",
       "3     -0.051917\n",
       "4     -0.430896\n",
       "         ...   \n",
       "936    0.760620\n",
       "937   -0.108573\n",
       "938   -0.043412\n",
       "939    0.022197\n",
       "940    0.089604\n",
       "Length: 941, dtype: float64"
      ]
     },
     "execution_count": 8,
     "metadata": {},
     "output_type": "execute_result"
    }
   ],
   "source": [
    "# Create a differenced series\n",
    "def difference(dataset, interval=1):\n",
    "    diff = list()\n",
    "    for i in range(interval, len(dataset)):\n",
    "        value = dataset[i] - dataset[i - interval]\n",
    "        diff.append(value)\n",
    "    return pd.Series(diff)\n",
    "\n",
    "salesScaledDiff = difference(data.SalesScaled.values)\n",
    "salesScaledDiff"
   ]
  },
  {
   "cell_type": "markdown",
   "id": "JAyh0XoTYfI1",
   "metadata": {
    "id": "JAyh0XoTYfI1"
   },
   "source": [
    "Making the Data ready for Modeling"
   ]
  },
  {
   "cell_type": "code",
   "execution_count": 9,
   "id": "UboB42IraOev",
   "metadata": {
    "id": "UboB42IraOev"
   },
   "outputs": [],
   "source": [
    "SIZE = len(data.SalesScaled)\n",
    "WINDOW_SIZE = 48\n",
    "BATCH_SIZE = SIZE - WINDOW_SIZE * 2\n",
    "EPOCHS = 200"
   ]
  },
  {
   "cell_type": "code",
   "execution_count": 10,
   "id": "z-vt0ltrakxY",
   "metadata": {
    "colab": {
     "base_uri": "https://localhost:8080/"
    },
    "id": "z-vt0ltrakxY",
    "outputId": "cebd58bb-fe72-49c1-cc95-0509a2415500"
   },
   "outputs": [
    {
     "name": "stdout",
     "output_type": "stream",
     "text": [
      "Shape of the training set date series:  (846, 1)\n",
      "Shape of the validation set date series:  (96, 1)\n",
      "\n",
      "Shape of the training set logarithm of sales series:  (846,)\n",
      "Shape of the validation set logarithm of sales series in a stateless LSTM:  (96,)\n"
     ]
    }
   ],
   "source": [
    "DateTrain = data.index.values[0:BATCH_SIZE]\n",
    "DateValid = data.index.values[BATCH_SIZE:]\n",
    "XTrain = data.SalesScaled.values[0:BATCH_SIZE].astype('float32')\n",
    "XValid = data.SalesScaled.values[BATCH_SIZE:].astype('float32')\n",
    "\n",
    "# Obtain shapes for vectors of size (,1) for dates series\n",
    "\n",
    "DateTrain = np.reshape(DateTrain, (-1, 1))\n",
    "DateValid = np.reshape(DateValid, (-1, 1))\n",
    "\n",
    "print(\"Shape of the training set date series: \", DateTrain.shape)\n",
    "print(\"Shape of the validation set date series: \", DateValid.shape)\n",
    "print()\n",
    "print(\"Shape of the training set logarithm of sales series: \", XTrain.shape)\n",
    "print(\"Shape of the validation set logarithm of sales series in a stateless LSTM: \", XValid.shape)"
   ]
  },
  {
   "cell_type": "code",
   "execution_count": 11,
   "id": "iaRjTc30ana4",
   "metadata": {
    "colab": {
     "base_uri": "https://localhost:8080/"
    },
    "id": "iaRjTc30ana4",
    "outputId": "e6e5b1d1-80a7-4ea7-e127-83680505850c"
   },
   "outputs": [
    {
     "data": {
      "text/plain": [
       "TensorShape([846, 1])"
      ]
     },
     "execution_count": 11,
     "metadata": {},
     "output_type": "execute_result"
    }
   ],
   "source": [
    "tf.random.set_seed(1234)\n",
    "# add extra dimension\n",
    "series = tf.expand_dims(XTrain, axis=-1)\n",
    "series.shape"
   ]
  },
  {
   "cell_type": "code",
   "execution_count": 12,
   "id": "MoBxGw2naxAe",
   "metadata": {
    "colab": {
     "base_uri": "https://localhost:8080/"
    },
    "id": "MoBxGw2naxAe",
    "outputId": "306ec3b7-ee8e-44c0-934f-9f7d9fa372a1"
   },
   "outputs": [
    {
     "data": {
      "text/plain": [
       "<TensorSliceDataset element_spec=TensorSpec(shape=(1,), dtype=tf.float32, name=None)>"
      ]
     },
     "execution_count": 12,
     "metadata": {},
     "output_type": "execute_result"
    }
   ],
   "source": [
    "# create tensor from each individual element\n",
    "dataset = tf.data.Dataset.from_tensor_slices(series)\n",
    "dataset"
   ]
  },
  {
   "cell_type": "code",
   "execution_count": 13,
   "id": "ToWSg10xaynQ",
   "metadata": {
    "id": "ToWSg10xaynQ"
   },
   "outputs": [],
   "source": [
    "# takes a window_size + 1 chunk from the slices\n",
    "dataset = dataset.window(WINDOW_SIZE + 1, shift=1, drop_remainder=True)"
   ]
  },
  {
   "cell_type": "code",
   "execution_count": 14,
   "id": "uOi9x6NMbAFj",
   "metadata": {
    "colab": {
     "base_uri": "https://localhost:8080/"
    },
    "id": "uOi9x6NMbAFj",
    "outputId": "5575d7e2-7996-4b15-e0e9-2d9575e28cad"
   },
   "outputs": [
    {
     "name": "stdout",
     "output_type": "stream",
     "text": [
      "[0, 1, 2, 3, 4]\n",
      "[1, 2, 3, 4, 5]\n",
      "[2, 3, 4, 5, 6]\n",
      "[3, 4, 5, 6, 7]\n",
      "[4, 5, 6, 7, 8]\n",
      "[5, 6, 7, 8, 9]\n"
     ]
    }
   ],
   "source": [
    "datasetEx = tf.data.Dataset.from_tensor_slices(tf.range(10))\n",
    "datasetEx = datasetEx.window(5, shift=1, drop_remainder=True)\n",
    "for window in datasetEx:\n",
    "    print([elem.numpy() for elem in window])"
   ]
  },
  {
   "cell_type": "code",
   "execution_count": 15,
   "id": "_QOxl1dTbNkT",
   "metadata": {
    "id": "_QOxl1dTbNkT"
   },
   "outputs": [],
   "source": [
    "def windowed_dataset(series, window_size=WINDOW_SIZE, batch_size=BATCH_SIZE):\n",
    "  series = tf.expand_dims(series, axis=-1)\n",
    "  dataset = tf.data.Dataset.from_tensor_slices(series)\n",
    "  dataset = dataset.window(window_size + 1, shift=1, drop_remainder=True)\n",
    "  dataset = dataset.flat_map(lambda window: window.batch(window_size + 1))\n",
    "  dataset = dataset.map(lambda window: (window[:-1], window[-1:]))\n",
    "  dataset = dataset.batch(batch_size).prefetch(1)\n",
    "  return dataset"
   ]
  },
  {
   "cell_type": "code",
   "execution_count": 16,
   "id": "q5tWtTh3bG1w",
   "metadata": {
    "id": "q5tWtTh3bG1w"
   },
   "outputs": [],
   "source": [
    "DatasetTrain = windowed_dataset(XTrain)\n",
    "DatasetVal = windowed_dataset(XValid)"
   ]
  },
  {
   "cell_type": "code",
   "execution_count": 52,
   "id": "6iQWdB2XcAuD",
   "metadata": {
    "colab": {
     "base_uri": "https://localhost:8080/"
    },
    "id": "6iQWdB2XcAuD",
    "outputId": "18019a09-1434-4deb-d9ad-bb678086471d"
   },
   "outputs": [
    {
     "name": "stdout",
     "output_type": "stream",
     "text": [
      "(659, 2) (283, 2)\n"
     ]
    }
   ],
   "source": [
    "train_size = int(len(data) * 0.70)\n",
    "test_size = len(data) - train_size\n",
    "train, test = data.iloc[0:train_size], data.iloc[train_size:len(data)]\n",
    "print(train.shape, test.shape)"
   ]
  },
  {
   "cell_type": "markdown",
   "id": "MWpGo_PWbf4q",
   "metadata": {
    "id": "MWpGo_PWbf4q"
   },
   "source": [
    "Model Building"
   ]
  },
  {
   "cell_type": "code",
   "execution_count": 17,
   "id": "BhgwlxqubiJZ",
   "metadata": {
    "colab": {
     "base_uri": "https://localhost:8080/"
    },
    "id": "BhgwlxqubiJZ",
    "outputId": "49e1f4ed-d48a-4cf2-ef16-7ae718708b28"
   },
   "outputs": [
    {
     "name": "stdout",
     "output_type": "stream",
     "text": [
      "Model: \"sequential\"\n",
      "_________________________________________________________________\n",
      " Layer (type)                Output Shape              Param #   \n",
      "=================================================================\n",
      " lstm (LSTM)                 (None, None, 8)           320       \n",
      "                                                                 \n",
      " lstm_1 (LSTM)               (None, 4)                 208       \n",
      "                                                                 \n",
      " dense (Dense)               (None, 1)                 5         \n",
      "                                                                 \n",
      "=================================================================\n",
      "Total params: 533\n",
      "Trainable params: 533\n",
      "Non-trainable params: 0\n",
      "_________________________________________________________________\n"
     ]
    }
   ],
   "source": [
    "model = Sequential()\n",
    "model.add(LSTM(8, input_shape=[None, 1], return_sequences=True))\n",
    "model.add(LSTM(4, input_shape=[None, 1]))\n",
    "model.add(Dense(1))\n",
    "model.compile(loss=\"huber_loss\", optimizer='adam')\n",
    "model.summary()"
   ]
  },
  {
   "cell_type": "markdown",
   "id": "zGffDuL3ef5i",
   "metadata": {
    "id": "zGffDuL3ef5i"
   },
   "source": [
    "Training the Model"
   ]
  },
  {
   "cell_type": "code",
   "execution_count": 18,
   "id": "Fhkv1xSoehDs",
   "metadata": {
    "colab": {
     "base_uri": "https://localhost:8080/"
    },
    "id": "Fhkv1xSoehDs",
    "outputId": "1bafec77-6195-408f-96b2-c2115a53e5ef"
   },
   "outputs": [
    {
     "name": "stdout",
     "output_type": "stream",
     "text": [
      "Epoch 1/200\n",
      "1/1 [==============================] - 10s 10s/step - loss: 0.0568 - val_loss: 0.0558\n",
      "Epoch 2/200\n",
      "1/1 [==============================] - 0s 284ms/step - loss: 0.0520 - val_loss: 0.0510\n",
      "Epoch 3/200\n",
      "1/1 [==============================] - 0s 264ms/step - loss: 0.0476 - val_loss: 0.0466\n",
      "Epoch 4/200\n",
      "1/1 [==============================] - 0s 232ms/step - loss: 0.0437 - val_loss: 0.0426\n",
      "Epoch 5/200\n",
      "1/1 [==============================] - 0s 257ms/step - loss: 0.0403 - val_loss: 0.0392\n",
      "Epoch 6/200\n",
      "1/1 [==============================] - 0s 429ms/step - loss: 0.0373 - val_loss: 0.0363\n",
      "Epoch 7/200\n",
      "1/1 [==============================] - 0s 231ms/step - loss: 0.0348 - val_loss: 0.0338\n",
      "Epoch 8/200\n",
      "1/1 [==============================] - 0s 278ms/step - loss: 0.0328 - val_loss: 0.0317\n",
      "Epoch 9/200\n",
      "1/1 [==============================] - 0s 396ms/step - loss: 0.0311 - val_loss: 0.0301\n",
      "Epoch 10/200\n",
      "1/1 [==============================] - 0s 226ms/step - loss: 0.0299 - val_loss: 0.0288\n",
      "Epoch 11/200\n",
      "1/1 [==============================] - 0s 272ms/step - loss: 0.0290 - val_loss: 0.0279\n",
      "Epoch 12/200\n",
      "1/1 [==============================] - 0s 280ms/step - loss: 0.0285 - val_loss: 0.0273\n",
      "Epoch 13/200\n",
      "1/1 [==============================] - 0s 257ms/step - loss: 0.0282 - val_loss: 0.0269\n",
      "Epoch 14/200\n",
      "1/1 [==============================] - 0s 258ms/step - loss: 0.0281 - val_loss: 0.0268\n",
      "Epoch 15/200\n",
      "1/1 [==============================] - 0s 280ms/step - loss: 0.0282 - val_loss: 0.0267\n",
      "Epoch 16/200\n",
      "1/1 [==============================] - 0s 273ms/step - loss: 0.0284 - val_loss: 0.0268\n",
      "Epoch 17/200\n",
      "1/1 [==============================] - 0s 205ms/step - loss: 0.0286 - val_loss: 0.0269\n",
      "Epoch 18/200\n",
      "1/1 [==============================] - 0s 258ms/step - loss: 0.0289 - val_loss: 0.0270\n",
      "Epoch 19/200\n",
      "1/1 [==============================] - 0s 277ms/step - loss: 0.0292 - val_loss: 0.0271\n",
      "Epoch 20/200\n",
      "1/1 [==============================] - 0s 271ms/step - loss: 0.0294 - val_loss: 0.0272\n",
      "Epoch 21/200\n",
      "1/1 [==============================] - 0s 215ms/step - loss: 0.0295 - val_loss: 0.0273\n",
      "Epoch 22/200\n",
      "1/1 [==============================] - 0s 293ms/step - loss: 0.0296 - val_loss: 0.0272\n",
      "Epoch 23/200\n",
      "1/1 [==============================] - 0s 343ms/step - loss: 0.0296 - val_loss: 0.0272\n",
      "Epoch 24/200\n",
      "1/1 [==============================] - 0s 232ms/step - loss: 0.0295 - val_loss: 0.0271\n",
      "Epoch 25/200\n",
      "1/1 [==============================] - 0s 280ms/step - loss: 0.0294 - val_loss: 0.0270\n",
      "Epoch 26/200\n",
      "1/1 [==============================] - 0s 369ms/step - loss: 0.0292 - val_loss: 0.0269\n",
      "Epoch 27/200\n",
      "1/1 [==============================] - 0s 262ms/step - loss: 0.0290 - val_loss: 0.0268\n",
      "Epoch 28/200\n",
      "1/1 [==============================] - 0s 376ms/step - loss: 0.0288 - val_loss: 0.0267\n",
      "Epoch 29/200\n",
      "1/1 [==============================] - 0s 295ms/step - loss: 0.0286 - val_loss: 0.0267\n",
      "Epoch 30/200\n",
      "1/1 [==============================] - 0s 222ms/step - loss: 0.0285 - val_loss: 0.0266\n",
      "Epoch 31/200\n",
      "1/1 [==============================] - 0s 272ms/step - loss: 0.0283 - val_loss: 0.0266\n",
      "Epoch 32/200\n",
      "1/1 [==============================] - 0s 267ms/step - loss: 0.0282 - val_loss: 0.0266\n",
      "Epoch 33/200\n",
      "1/1 [==============================] - 0s 267ms/step - loss: 0.0281 - val_loss: 0.0267\n",
      "Epoch 34/200\n",
      "1/1 [==============================] - 0s 211ms/step - loss: 0.0280 - val_loss: 0.0267\n",
      "Epoch 35/200\n",
      "1/1 [==============================] - 0s 369ms/step - loss: 0.0280 - val_loss: 0.0268\n",
      "Epoch 36/200\n",
      "1/1 [==============================] - 0s 279ms/step - loss: 0.0280 - val_loss: 0.0269\n",
      "Epoch 37/200\n",
      "1/1 [==============================] - 0s 221ms/step - loss: 0.0280 - val_loss: 0.0270\n",
      "Epoch 38/200\n",
      "1/1 [==============================] - 0s 240ms/step - loss: 0.0280 - val_loss: 0.0271\n",
      "Epoch 39/200\n",
      "1/1 [==============================] - 0s 345ms/step - loss: 0.0280 - val_loss: 0.0272\n",
      "Epoch 40/200\n",
      "1/1 [==============================] - 0s 256ms/step - loss: 0.0280 - val_loss: 0.0273\n",
      "Epoch 41/200\n",
      "1/1 [==============================] - 0s 232ms/step - loss: 0.0281 - val_loss: 0.0273\n",
      "Epoch 42/200\n",
      "1/1 [==============================] - 0s 275ms/step - loss: 0.0281 - val_loss: 0.0274\n",
      "Epoch 43/200\n",
      "1/1 [==============================] - 0s 273ms/step - loss: 0.0281 - val_loss: 0.0274\n",
      "Epoch 44/200\n",
      "1/1 [==============================] - 0s 240ms/step - loss: 0.0281 - val_loss: 0.0274\n",
      "Epoch 45/200\n",
      "1/1 [==============================] - 0s 379ms/step - loss: 0.0281 - val_loss: 0.0274\n",
      "Epoch 46/200\n",
      "1/1 [==============================] - 0s 273ms/step - loss: 0.0281 - val_loss: 0.0273\n",
      "Epoch 47/200\n",
      "1/1 [==============================] - 0s 234ms/step - loss: 0.0281 - val_loss: 0.0273\n",
      "Epoch 48/200\n",
      "1/1 [==============================] - 0s 250ms/step - loss: 0.0280 - val_loss: 0.0272\n",
      "Epoch 49/200\n",
      "1/1 [==============================] - 0s 259ms/step - loss: 0.0280 - val_loss: 0.0272\n",
      "Epoch 50/200\n",
      "1/1 [==============================] - 0s 252ms/step - loss: 0.0280 - val_loss: 0.0271\n",
      "Epoch 51/200\n",
      "1/1 [==============================] - 0s 223ms/step - loss: 0.0280 - val_loss: 0.0270\n",
      "Epoch 52/200\n",
      "1/1 [==============================] - 0s 271ms/step - loss: 0.0279 - val_loss: 0.0270\n",
      "Epoch 53/200\n",
      "1/1 [==============================] - 0s 269ms/step - loss: 0.0279 - val_loss: 0.0269\n",
      "Epoch 54/200\n",
      "1/1 [==============================] - 0s 268ms/step - loss: 0.0279 - val_loss: 0.0268\n",
      "Epoch 55/200\n",
      "1/1 [==============================] - 0s 229ms/step - loss: 0.0279 - val_loss: 0.0268\n",
      "Epoch 56/200\n",
      "1/1 [==============================] - 0s 363ms/step - loss: 0.0279 - val_loss: 0.0268\n",
      "Epoch 57/200\n",
      "1/1 [==============================] - 0s 280ms/step - loss: 0.0279 - val_loss: 0.0267\n",
      "Epoch 58/200\n",
      "1/1 [==============================] - 0s 219ms/step - loss: 0.0279 - val_loss: 0.0267\n",
      "Epoch 59/200\n",
      "1/1 [==============================] - 0s 299ms/step - loss: 0.0279 - val_loss: 0.0266\n",
      "Epoch 60/200\n",
      "1/1 [==============================] - 0s 270ms/step - loss: 0.0279 - val_loss: 0.0266\n",
      "Epoch 61/200\n",
      "1/1 [==============================] - 0s 246ms/step - loss: 0.0279 - val_loss: 0.0266\n",
      "Epoch 62/200\n",
      "1/1 [==============================] - 0s 244ms/step - loss: 0.0279 - val_loss: 0.0266\n",
      "Epoch 63/200\n",
      "1/1 [==============================] - 0s 335ms/step - loss: 0.0279 - val_loss: 0.0266\n",
      "Epoch 64/200\n",
      "1/1 [==============================] - 0s 267ms/step - loss: 0.0279 - val_loss: 0.0266\n",
      "Epoch 65/200\n",
      "1/1 [==============================] - 0s 235ms/step - loss: 0.0279 - val_loss: 0.0266\n",
      "Epoch 66/200\n",
      "1/1 [==============================] - 0s 252ms/step - loss: 0.0278 - val_loss: 0.0266\n",
      "Epoch 67/200\n",
      "1/1 [==============================] - 0s 255ms/step - loss: 0.0278 - val_loss: 0.0266\n",
      "Epoch 68/200\n",
      "1/1 [==============================] - 0s 265ms/step - loss: 0.0278 - val_loss: 0.0266\n",
      "Epoch 69/200\n",
      "1/1 [==============================] - 0s 232ms/step - loss: 0.0278 - val_loss: 0.0266\n",
      "Epoch 70/200\n",
      "1/1 [==============================] - 0s 433ms/step - loss: 0.0278 - val_loss: 0.0266\n",
      "Epoch 71/200\n",
      "1/1 [==============================] - 0s 285ms/step - loss: 0.0278 - val_loss: 0.0266\n",
      "Epoch 72/200\n",
      "1/1 [==============================] - 0s 223ms/step - loss: 0.0278 - val_loss: 0.0266\n",
      "Epoch 73/200\n",
      "1/1 [==============================] - 0s 336ms/step - loss: 0.0278 - val_loss: 0.0266\n",
      "Epoch 74/200\n",
      "1/1 [==============================] - 0s 322ms/step - loss: 0.0278 - val_loss: 0.0266\n",
      "Epoch 75/200\n",
      "1/1 [==============================] - 0s 253ms/step - loss: 0.0278 - val_loss: 0.0267\n",
      "Epoch 76/200\n",
      "1/1 [==============================] - 0s 334ms/step - loss: 0.0278 - val_loss: 0.0267\n",
      "Epoch 77/200\n",
      "1/1 [==============================] - 0s 270ms/step - loss: 0.0278 - val_loss: 0.0267\n",
      "Epoch 78/200\n",
      "1/1 [==============================] - 0s 241ms/step - loss: 0.0278 - val_loss: 0.0267\n",
      "Epoch 79/200\n",
      "1/1 [==============================] - 0s 230ms/step - loss: 0.0278 - val_loss: 0.0267\n",
      "Epoch 80/200\n",
      "1/1 [==============================] - 0s 274ms/step - loss: 0.0278 - val_loss: 0.0267\n",
      "Epoch 81/200\n",
      "1/1 [==============================] - 0s 277ms/step - loss: 0.0277 - val_loss: 0.0267\n",
      "Epoch 82/200\n",
      "1/1 [==============================] - 0s 229ms/step - loss: 0.0277 - val_loss: 0.0267\n",
      "Epoch 83/200\n"
     ]
    },
    {
     "name": "stdout",
     "output_type": "stream",
     "text": [
      "1/1 [==============================] - 0s 274ms/step - loss: 0.0277 - val_loss: 0.0267\n",
      "Epoch 84/200\n",
      "1/1 [==============================] - 0s 270ms/step - loss: 0.0277 - val_loss: 0.0267\n",
      "Epoch 85/200\n",
      "1/1 [==============================] - 0s 260ms/step - loss: 0.0277 - val_loss: 0.0267\n",
      "Epoch 86/200\n",
      "1/1 [==============================] - 0s 209ms/step - loss: 0.0277 - val_loss: 0.0266\n",
      "Epoch 87/200\n",
      "1/1 [==============================] - 0s 427ms/step - loss: 0.0277 - val_loss: 0.0266\n",
      "Epoch 88/200\n",
      "1/1 [==============================] - 0s 288ms/step - loss: 0.0277 - val_loss: 0.0266\n",
      "Epoch 89/200\n",
      "1/1 [==============================] - 0s 202ms/step - loss: 0.0277 - val_loss: 0.0266\n",
      "Epoch 90/200\n",
      "1/1 [==============================] - 0s 335ms/step - loss: 0.0277 - val_loss: 0.0266\n",
      "Epoch 91/200\n",
      "1/1 [==============================] - 0s 262ms/step - loss: 0.0277 - val_loss: 0.0266\n",
      "Epoch 92/200\n",
      "1/1 [==============================] - 0s 244ms/step - loss: 0.0277 - val_loss: 0.0265\n",
      "Epoch 93/200\n",
      "1/1 [==============================] - 0s 233ms/step - loss: 0.0277 - val_loss: 0.0265\n",
      "Epoch 94/200\n",
      "1/1 [==============================] - 0s 255ms/step - loss: 0.0277 - val_loss: 0.0265\n",
      "Epoch 95/200\n",
      "1/1 [==============================] - 0s 254ms/step - loss: 0.0277 - val_loss: 0.0265\n",
      "Epoch 96/200\n",
      "1/1 [==============================] - 0s 224ms/step - loss: 0.0277 - val_loss: 0.0265\n",
      "Epoch 97/200\n",
      "1/1 [==============================] - 0s 236ms/step - loss: 0.0277 - val_loss: 0.0265\n",
      "Epoch 98/200\n",
      "1/1 [==============================] - 0s 252ms/step - loss: 0.0276 - val_loss: 0.0265\n",
      "Epoch 99/200\n",
      "1/1 [==============================] - 0s 254ms/step - loss: 0.0276 - val_loss: 0.0265\n",
      "Epoch 100/200\n",
      "1/1 [==============================] - 0s 204ms/step - loss: 0.0276 - val_loss: 0.0265\n",
      "Epoch 101/200\n",
      "1/1 [==============================] - 0s 250ms/step - loss: 0.0276 - val_loss: 0.0265\n",
      "Epoch 102/200\n",
      "1/1 [==============================] - 0s 233ms/step - loss: 0.0276 - val_loss: 0.0265\n",
      "Epoch 103/200\n",
      "1/1 [==============================] - 0s 263ms/step - loss: 0.0276 - val_loss: 0.0265\n",
      "Epoch 104/200\n",
      "1/1 [==============================] - 0s 220ms/step - loss: 0.0276 - val_loss: 0.0264\n",
      "Epoch 105/200\n",
      "1/1 [==============================] - 0s 248ms/step - loss: 0.0276 - val_loss: 0.0264\n",
      "Epoch 106/200\n",
      "1/1 [==============================] - 0s 272ms/step - loss: 0.0276 - val_loss: 0.0264\n",
      "Epoch 107/200\n",
      "1/1 [==============================] - 0s 267ms/step - loss: 0.0276 - val_loss: 0.0264\n",
      "Epoch 108/200\n",
      "1/1 [==============================] - 0s 222ms/step - loss: 0.0276 - val_loss: 0.0264\n",
      "Epoch 109/200\n",
      "1/1 [==============================] - 1s 502ms/step - loss: 0.0276 - val_loss: 0.0264\n",
      "Epoch 110/200\n",
      "1/1 [==============================] - 0s 250ms/step - loss: 0.0276 - val_loss: 0.0264\n",
      "Epoch 111/200\n",
      "1/1 [==============================] - 0s 261ms/step - loss: 0.0276 - val_loss: 0.0264\n",
      "Epoch 112/200\n",
      "1/1 [==============================] - 0s 252ms/step - loss: 0.0276 - val_loss: 0.0264\n",
      "Epoch 113/200\n",
      "1/1 [==============================] - 0s 245ms/step - loss: 0.0275 - val_loss: 0.0264\n",
      "Epoch 114/200\n",
      "1/1 [==============================] - 0s 229ms/step - loss: 0.0275 - val_loss: 0.0264\n",
      "Epoch 115/200\n",
      "1/1 [==============================] - 0s 264ms/step - loss: 0.0275 - val_loss: 0.0264\n",
      "Epoch 116/200\n",
      "1/1 [==============================] - 0s 264ms/step - loss: 0.0275 - val_loss: 0.0264\n",
      "Epoch 117/200\n",
      "1/1 [==============================] - 0s 259ms/step - loss: 0.0275 - val_loss: 0.0264\n",
      "Epoch 118/200\n",
      "1/1 [==============================] - 0s 212ms/step - loss: 0.0275 - val_loss: 0.0264\n",
      "Epoch 119/200\n",
      "1/1 [==============================] - 0s 357ms/step - loss: 0.0275 - val_loss: 0.0264\n",
      "Epoch 120/200\n",
      "1/1 [==============================] - 0s 272ms/step - loss: 0.0275 - val_loss: 0.0263\n",
      "Epoch 121/200\n",
      "1/1 [==============================] - 0s 236ms/step - loss: 0.0275 - val_loss: 0.0263\n",
      "Epoch 122/200\n",
      "1/1 [==============================] - 0s 241ms/step - loss: 0.0275 - val_loss: 0.0263\n",
      "Epoch 123/200\n",
      "1/1 [==============================] - 0s 262ms/step - loss: 0.0275 - val_loss: 0.0263\n",
      "Epoch 124/200\n",
      "1/1 [==============================] - 0s 274ms/step - loss: 0.0275 - val_loss: 0.0263\n",
      "Epoch 125/200\n",
      "1/1 [==============================] - 0s 202ms/step - loss: 0.0275 - val_loss: 0.0263\n",
      "Epoch 126/200\n",
      "1/1 [==============================] - 0s 346ms/step - loss: 0.0275 - val_loss: 0.0263\n",
      "Epoch 127/200\n",
      "1/1 [==============================] - 0s 278ms/step - loss: 0.0274 - val_loss: 0.0263\n",
      "Epoch 128/200\n",
      "1/1 [==============================] - 0s 252ms/step - loss: 0.0274 - val_loss: 0.0263\n",
      "Epoch 129/200\n",
      "1/1 [==============================] - 0s 240ms/step - loss: 0.0274 - val_loss: 0.0263\n",
      "Epoch 130/200\n",
      "1/1 [==============================] - 0s 326ms/step - loss: 0.0274 - val_loss: 0.0262\n",
      "Epoch 131/200\n",
      "1/1 [==============================] - 0s 260ms/step - loss: 0.0274 - val_loss: 0.0262\n",
      "Epoch 132/200\n",
      "1/1 [==============================] - 0s 225ms/step - loss: 0.0274 - val_loss: 0.0262\n",
      "Epoch 133/200\n",
      "1/1 [==============================] - 0s 404ms/step - loss: 0.0274 - val_loss: 0.0262\n",
      "Epoch 134/200\n",
      "1/1 [==============================] - 0s 280ms/step - loss: 0.0274 - val_loss: 0.0262\n",
      "Epoch 135/200\n",
      "1/1 [==============================] - 0s 211ms/step - loss: 0.0274 - val_loss: 0.0262\n",
      "Epoch 136/200\n",
      "1/1 [==============================] - 0s 381ms/step - loss: 0.0274 - val_loss: 0.0262\n",
      "Epoch 137/200\n",
      "1/1 [==============================] - 0s 278ms/step - loss: 0.0274 - val_loss: 0.0262\n",
      "Epoch 138/200\n",
      "1/1 [==============================] - 0s 233ms/step - loss: 0.0274 - val_loss: 0.0262\n",
      "Epoch 139/200\n",
      "1/1 [==============================] - 0s 249ms/step - loss: 0.0274 - val_loss: 0.0262\n",
      "Epoch 140/200\n",
      "1/1 [==============================] - 0s 253ms/step - loss: 0.0273 - val_loss: 0.0262\n",
      "Epoch 141/200\n",
      "1/1 [==============================] - 0s 253ms/step - loss: 0.0273 - val_loss: 0.0262\n",
      "Epoch 142/200\n",
      "1/1 [==============================] - 0s 195ms/step - loss: 0.0273 - val_loss: 0.0261\n",
      "Epoch 143/200\n",
      "1/1 [==============================] - 0s 374ms/step - loss: 0.0273 - val_loss: 0.0261\n",
      "Epoch 144/200\n",
      "1/1 [==============================] - 0s 272ms/step - loss: 0.0273 - val_loss: 0.0261\n",
      "Epoch 145/200\n",
      "1/1 [==============================] - 0s 231ms/step - loss: 0.0273 - val_loss: 0.0261\n",
      "Epoch 146/200\n",
      "1/1 [==============================] - 0s 240ms/step - loss: 0.0273 - val_loss: 0.0261\n",
      "Epoch 147/200\n",
      "1/1 [==============================] - 0s 351ms/step - loss: 0.0273 - val_loss: 0.0261\n",
      "Epoch 148/200\n",
      "1/1 [==============================] - 0s 229ms/step - loss: 0.0273 - val_loss: 0.0261\n",
      "Epoch 149/200\n",
      "1/1 [==============================] - 0s 260ms/step - loss: 0.0273 - val_loss: 0.0261\n",
      "Epoch 150/200\n",
      "1/1 [==============================] - 0s 316ms/step - loss: 0.0273 - val_loss: 0.0261\n",
      "Epoch 151/200\n",
      "1/1 [==============================] - 0s 247ms/step - loss: 0.0273 - val_loss: 0.0261\n",
      "Epoch 152/200\n",
      "1/1 [==============================] - 0s 214ms/step - loss: 0.0273 - val_loss: 0.0260\n",
      "Epoch 153/200\n",
      "1/1 [==============================] - 0s 252ms/step - loss: 0.0272 - val_loss: 0.0260\n",
      "Epoch 154/200\n",
      "1/1 [==============================] - 0s 249ms/step - loss: 0.0272 - val_loss: 0.0260\n",
      "Epoch 155/200\n",
      "1/1 [==============================] - 0s 262ms/step - loss: 0.0272 - val_loss: 0.0260\n",
      "Epoch 156/200\n",
      "1/1 [==============================] - 0s 210ms/step - loss: 0.0272 - val_loss: 0.0260\n",
      "Epoch 157/200\n",
      "1/1 [==============================] - 0s 254ms/step - loss: 0.0272 - val_loss: 0.0260\n",
      "Epoch 158/200\n",
      "1/1 [==============================] - 0s 247ms/step - loss: 0.0272 - val_loss: 0.0260\n",
      "Epoch 159/200\n",
      "1/1 [==============================] - 0s 256ms/step - loss: 0.0272 - val_loss: 0.0260\n",
      "Epoch 160/200\n",
      "1/1 [==============================] - 0s 206ms/step - loss: 0.0272 - val_loss: 0.0260\n",
      "Epoch 161/200\n",
      "1/1 [==============================] - 0s 342ms/step - loss: 0.0272 - val_loss: 0.0259\n",
      "Epoch 162/200\n",
      "1/1 [==============================] - 0s 273ms/step - loss: 0.0272 - val_loss: 0.0259\n",
      "Epoch 163/200\n",
      "1/1 [==============================] - 0s 228ms/step - loss: 0.0272 - val_loss: 0.0259\n",
      "Epoch 164/200\n"
     ]
    },
    {
     "name": "stdout",
     "output_type": "stream",
     "text": [
      "1/1 [==============================] - 0s 260ms/step - loss: 0.0272 - val_loss: 0.0259\n",
      "Epoch 165/200\n",
      "1/1 [==============================] - 0s 273ms/step - loss: 0.0271 - val_loss: 0.0259\n",
      "Epoch 166/200\n",
      "1/1 [==============================] - 0s 270ms/step - loss: 0.0271 - val_loss: 0.0259\n",
      "Epoch 167/200\n",
      "1/1 [==============================] - 0s 222ms/step - loss: 0.0271 - val_loss: 0.0259\n",
      "Epoch 168/200\n",
      "1/1 [==============================] - 0s 310ms/step - loss: 0.0271 - val_loss: 0.0259\n",
      "Epoch 169/200\n",
      "1/1 [==============================] - 0s 254ms/step - loss: 0.0271 - val_loss: 0.0259\n",
      "Epoch 170/200\n",
      "1/1 [==============================] - 0s 264ms/step - loss: 0.0271 - val_loss: 0.0258\n",
      "Epoch 171/200\n",
      "1/1 [==============================] - 0s 215ms/step - loss: 0.0271 - val_loss: 0.0258\n",
      "Epoch 172/200\n",
      "1/1 [==============================] - 0s 277ms/step - loss: 0.0271 - val_loss: 0.0258\n",
      "Epoch 173/200\n",
      "1/1 [==============================] - 0s 276ms/step - loss: 0.0271 - val_loss: 0.0258\n",
      "Epoch 174/200\n",
      "1/1 [==============================] - 0s 245ms/step - loss: 0.0271 - val_loss: 0.0258\n",
      "Epoch 175/200\n",
      "1/1 [==============================] - 0s 255ms/step - loss: 0.0271 - val_loss: 0.0258\n",
      "Epoch 176/200\n",
      "1/1 [==============================] - 0s 355ms/step - loss: 0.0271 - val_loss: 0.0258\n",
      "Epoch 177/200\n",
      "1/1 [==============================] - 0s 259ms/step - loss: 0.0271 - val_loss: 0.0258\n",
      "Epoch 178/200\n",
      "1/1 [==============================] - 0s 236ms/step - loss: 0.0270 - val_loss: 0.0257\n",
      "Epoch 179/200\n",
      "1/1 [==============================] - 1s 644ms/step - loss: 0.0270 - val_loss: 0.0257\n",
      "Epoch 180/200\n",
      "1/1 [==============================] - 0s 213ms/step - loss: 0.0270 - val_loss: 0.0257\n",
      "Epoch 181/200\n",
      "1/1 [==============================] - 1s 563ms/step - loss: 0.0270 - val_loss: 0.0257\n",
      "Epoch 182/200\n",
      "1/1 [==============================] - 0s 238ms/step - loss: 0.0270 - val_loss: 0.0257\n",
      "Epoch 183/200\n",
      "1/1 [==============================] - 0s 242ms/step - loss: 0.0270 - val_loss: 0.0257\n",
      "Epoch 184/200\n",
      "1/1 [==============================] - 0s 279ms/step - loss: 0.0270 - val_loss: 0.0257\n",
      "Epoch 185/200\n",
      "1/1 [==============================] - 0s 288ms/step - loss: 0.0270 - val_loss: 0.0257\n",
      "Epoch 186/200\n",
      "1/1 [==============================] - 0s 211ms/step - loss: 0.0270 - val_loss: 0.0256\n",
      "Epoch 187/200\n",
      "1/1 [==============================] - 0s 485ms/step - loss: 0.0270 - val_loss: 0.0256\n",
      "Epoch 188/200\n",
      "1/1 [==============================] - 0s 271ms/step - loss: 0.0270 - val_loss: 0.0256\n",
      "Epoch 189/200\n",
      "1/1 [==============================] - 0s 231ms/step - loss: 0.0270 - val_loss: 0.0256\n",
      "Epoch 190/200\n",
      "1/1 [==============================] - 0s 274ms/step - loss: 0.0270 - val_loss: 0.0256\n",
      "Epoch 191/200\n",
      "1/1 [==============================] - 0s 269ms/step - loss: 0.0269 - val_loss: 0.0256\n",
      "Epoch 192/200\n",
      "1/1 [==============================] - 0s 229ms/step - loss: 0.0269 - val_loss: 0.0256\n",
      "Epoch 193/200\n",
      "1/1 [==============================] - 0s 228ms/step - loss: 0.0269 - val_loss: 0.0256\n",
      "Epoch 194/200\n",
      "1/1 [==============================] - 0s 355ms/step - loss: 0.0269 - val_loss: 0.0255\n",
      "Epoch 195/200\n",
      "1/1 [==============================] - 0s 261ms/step - loss: 0.0269 - val_loss: 0.0255\n",
      "Epoch 196/200\n",
      "1/1 [==============================] - 0s 212ms/step - loss: 0.0269 - val_loss: 0.0255\n",
      "Epoch 197/200\n",
      "1/1 [==============================] - 0s 261ms/step - loss: 0.0269 - val_loss: 0.0255\n",
      "Epoch 198/200\n",
      "1/1 [==============================] - 0s 265ms/step - loss: 0.0269 - val_loss: 0.0255\n",
      "Epoch 199/200\n",
      "1/1 [==============================] - 0s 271ms/step - loss: 0.0269 - val_loss: 0.0255\n",
      "Epoch 200/200\n",
      "1/1 [==============================] - 0s 222ms/step - loss: 0.0269 - val_loss: 0.0255\n"
     ]
    }
   ],
   "source": [
    "history = model.fit(DatasetTrain, epochs=EPOCHS, validation_data=DatasetVal, verbose=1)"
   ]
  },
  {
   "cell_type": "code",
   "execution_count": 19,
   "id": "1bykXE5efk1W",
   "metadata": {
    "colab": {
     "base_uri": "https://localhost:8080/"
    },
    "id": "1bykXE5efk1W",
    "outputId": "71dc0347-4ac7-4a3a-89f6-2f00a9bfcdb6"
   },
   "outputs": [
    {
     "name": "stdout",
     "output_type": "stream",
     "text": [
      "1/1 [==============================] - 0s 70ms/step - loss: 0.0255\n",
      "1/1 [==============================] - 0s 232ms/step - loss: 0.0269\n"
     ]
    }
   ],
   "source": [
    "loss = model.evaluate(DatasetVal, verbose=1)\n",
    "t_loss = model.evaluate(DatasetTrain, verbose=1)"
   ]
  },
  {
   "cell_type": "code",
   "execution_count": 20,
   "id": "HQTuVCFqfqVZ",
   "metadata": {
    "colab": {
     "base_uri": "https://localhost:8080/"
    },
    "id": "HQTuVCFqfqVZ",
    "outputId": "a2cb9c1c-1b9d-4ca5-f40f-b7d679039f0f"
   },
   "outputs": [
    {
     "name": "stdout",
     "output_type": "stream",
     "text": [
      "Training loss = 0.026879\n",
      "Validation loss = 0.025474\n"
     ]
    }
   ],
   "source": [
    "print(\"Training loss = %f\" % (t_loss))\n",
    "print(\"Validation loss = %f\" % (loss))"
   ]
  },
  {
   "cell_type": "code",
   "execution_count": 21,
   "id": "1eaYAS3chn-v",
   "metadata": {
    "colab": {
     "base_uri": "https://localhost:8080/",
     "height": 428
    },
    "id": "1eaYAS3chn-v",
    "outputId": "7fc2cebe-7271-42a2-a46a-f7ee5914cbb1"
   },
   "outputs": [
    {
     "data": {
      "image/png": "[encoded data removed]",
      "text/plain": [
       "<Figure size 864x504 with 1 Axes>"
      ]
     },
     "metadata": {
      "needs_background": "light"
     },
     "output_type": "display_data"
    }
   ],
   "source": [
    "fig = plt.figure(figsize=(12, 7))\n",
    "plt.plot(history.history['loss'], label=\"loss\")\n",
    "plt.plot(history.history['val_loss'], label=\"val_loss\")\n",
    "plt.legend()\n",
    "plt.show()"
   ]
  },
  {
   "cell_type": "code",
   "execution_count": 22,
   "id": "nO_axnt6fxYk",
   "metadata": {
    "id": "nO_axnt6fxYk"
   },
   "outputs": [],
   "source": [
    "from time import gmtime, strftime\n",
    "\n",
    "time = strftime(\"%Y-%m-%d\", gmtime())"
   ]
  },
  {
   "cell_type": "code",
   "execution_count": 23,
   "id": "gsdPs1WDf01c",
   "metadata": {
    "colab": {
     "base_uri": "https://localhost:8080/"
    },
    "id": "gsdPs1WDf01c",
    "outputId": "3fe9dcf7-adf9-44dd-f296-cba39cfa2a15"
   },
   "outputs": [
    {
     "name": "stderr",
     "output_type": "stream",
     "text": [
      "WARNING:absl:Found untraced functions such as lstm_cell_layer_call_fn, lstm_cell_layer_call_and_return_conditional_losses, lstm_cell_1_layer_call_fn, lstm_cell_1_layer_call_and_return_conditional_losses while saving (showing 4 of 4). These functions will not be directly callable after loading.\n"
     ]
    },
    {
     "name": "stdout",
     "output_type": "stream",
     "text": [
      "INFO:tensorflow:Assets written to: ../model/LSTM_sales_pred_model 2022-09-09.pkl\\assets\n"
     ]
    },
    {
     "name": "stderr",
     "output_type": "stream",
     "text": [
      "INFO:tensorflow:Assets written to: ../model/LSTM_sales_pred_model 2022-09-09.pkl\\assets\n"
     ]
    }
   ],
   "source": [
    "model.save(f'../model/LSTM_sales_pred_model {time}.pkl')"
   ]
  },
  {
   "cell_type": "markdown",
   "id": "4K_Rl2SDhy2v",
   "metadata": {
    "id": "4K_Rl2SDhy2v"
   },
   "source": [
    "Model Prediction"
   ]
  },
  {
   "cell_type": "code",
   "execution_count": 66,
   "id": "hTnjPwzDh0Q5",
   "metadata": {
    "id": "hTnjPwzDh0Q5"
   },
   "outputs": [],
   "source": [
    "def model_forecast(model, series, window_size):\n",
    "    ds = tf.data.Dataset.from_tensor_slices(series)\n",
    "    ds = ds.window(window_size, shift=1, drop_remainder=True) \n",
    "    ds = ds.flat_map(lambda w: w.batch(window_size))\n",
    "    ds = ds.batch(SIZE).prefetch(1)\n",
    "    forecast = model.predict(ds)\n",
    "    return forecast\n",
    "\n",
    "Forecast = model_forecast(model, data.SalesScaled.values[:, np.newaxis], WINDOW_SIZE)\n",
    "Results = Forecast[BATCH_SIZE-WINDOW_SIZE:-1]\n",
    "Results1 = scaler.inverse_transform(Results.reshape(-1,1))\n",
    "XValid1 = scaler.inverse_transform(XValid.reshape(-1,1))"
   ]
  },
  {
   "cell_type": "code",
   "execution_count": 67,
   "id": "NUbJ_6gyiGWJ",
   "metadata": {
    "colab": {
     "base_uri": "https://localhost:8080/",
     "height": 328
    },
    "id": "NUbJ_6gyiGWJ",
    "outputId": "705af29c-b661-47be-faf7-f0c5589d3aaa"
   },
   "outputs": [
    {
     "data": {
      "text/plain": [
       "<matplotlib.legend.Legend at 0x7f9c0b0bea50>"
      ]
     },
     "execution_count": 67,
     "metadata": {},
     "output_type": "execute_result"
    },
    {
     "data": {
      "image/png": "[encoded data removed]",
      "text/plain": [
       "<Figure size 2160x576 with 1 Axes>"
      ]
     },
     "metadata": {
      "needs_background": "light"
     },
     "output_type": "display_data"
    }
   ],
   "source": [
    "plt.figure(figsize=(30, 8))\n",
    "plt.title(\"LSTM Model Forecast Compared to Validation Data\")\n",
    "plt.plot(DateValid.astype('datetime64'), Results1, label='Forecast series')\n",
    "plt.plot(DateValid.astype('datetime64'), np.reshape(XValid1, (2*WINDOW_SIZE, 1)), label='Validation series')\n",
    "plt.xlabel('Date')\n",
    "plt.ylabel('Thousands of Units')\n",
    "plt.xticks(DateValid.astype('datetime64')[:,-1], rotation = 90) \n",
    "plt.legend(loc=\"upper right\")"
   ]
  }
 ],
 "metadata": {
  "colab": {
   "collapsed_sections": [],
   "provenance": []
  },
  "kernelspec": {
   "display_name": "Python 3 (ipykernel)",
   "language": "python",
   "name": "python3"
  },
  "language_info": {
   "codemirror_mode": {
    "name": "ipython",
    "version": 3
   },
   "file_extension": ".py",
   "mimetype": "text/x-python",
   "name": "python",
   "nbconvert_exporter": "python",
   "pygments_lexer": "ipython3",
   "version": "3.9.12"
  }
 },
 "nbformat": 4,
 "nbformat_minor": 5
}
