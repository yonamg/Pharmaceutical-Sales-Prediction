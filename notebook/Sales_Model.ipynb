{
 "cells": [
  {
   "cell_type": "code",
   "execution_count": 1,
   "id": "03430fe1",
   "metadata": {},
   "outputs": [],
   "source": [
    "#Auto relode the notebooks\n",
    "%load_ext autoreload\n",
    "%autoreload 2"
   ]
  },
  {
   "cell_type": "code",
   "execution_count": 2,
   "id": "b046cf4b",
   "metadata": {},
   "outputs": [],
   "source": [
    "#import python libraries\n",
    "import os\n",
    "import warnings\n",
    "import sys\n",
    "import datetime\n",
    "\n",
    "import dvc.api\n",
    "import pandas as pd\n",
    "import numpy as np\n",
    "from sklearn.metrics import mean_squared_error, mean_absolute_error, r2_score\n",
    "from sklearn.model_selection import train_test_split\n",
    "from sklearn.linear_model import ElasticNet, LogisticRegression, LinearRegression\n",
    "from sklearn.preprocessing import LabelEncoder\n",
    "from fast_ml.model_development import train_valid_test_split\n",
    "from sklearn.tree import DecisionTreeClassifier\n",
    "from urllib.parse import urlparse\n",
    "import mlflow\n",
    "import mlflow.sklearn\n",
    "from sklearn.preprocessing import StandardScaler, OrdinalEncoder\n",
    "from sklearn.impute import SimpleImputer\n",
    "from sklearn.compose import ColumnTransformer\n",
    "from sklearn.pipeline import Pipeline\n",
    "from sklearn.ensemble import RandomForestRegressor\n",
    "import pickle"
   ]
  },
  {
   "cell_type": "code",
   "execution_count": 5,
   "id": "ddb6104a",
   "metadata": {},
   "outputs": [],
   "source": [
    "#import Scripts\n",
    "sys.path.append(os.path.abspath(os.path.join('../scripts')))\n",
    "from plot_data import PlotData\n",
    "from preprocessing import Preprocess\n",
    "from load_data import LoadData"
   ]
  },
  {
   "cell_type": "code",
   "execution_count": 6,
   "id": "ffd0330b",
   "metadata": {},
   "outputs": [],
   "source": [
    "loader = LoadData()"
   ]
  },
  {
   "cell_type": "code",
   "execution_count": 7,
   "id": "7a1a98ca",
   "metadata": {},
   "outputs": [],
   "source": [
    "#get the data\n",
    "train_path = 'data/train_cleaned.csv'\n",
    "test_path = 'data/test_cleaned.csv'\n",
    "repo = 'https://github.com/yonamg/Pharmaceutical-Sales-Prediction'\n",
    "tra_ver = '48de72c'\n",
    "tst_ver = '3e8c890'"
   ]
  },
  {
   "cell_type": "code",
   "execution_count": 9,
   "id": "5ae6860b",
   "metadata": {},
   "outputs": [],
   "source": [
    "#Load train data from dvc using the dvc.api.Dataset class\n",
    "data_url = dvc.api.get_url(\n",
    "    path=train_path,\n",
    "    repo=repo,\n",
    "    rev=tra_ver\n",
    ")"
   ]
  },
  {
   "cell_type": "code",
   "execution_count": 11,
   "id": "30cbc953",
   "metadata": {},
   "outputs": [],
   "source": [
    "train_data = loader.read_csv(data_url)\n",
    "train_data.drop(['Unnamed: 0'], axis=1, inplace=True)\n",
    "train_data.set_index('Date', inplace=True)"
   ]
  },
  {
   "cell_type": "code",
   "execution_count": null,
   "id": "80f7f676",
   "metadata": {},
   "outputs": [],
   "source": []
  }
 ],
 "metadata": {
  "kernelspec": {
   "display_name": "Python 3 (ipykernel)",
   "language": "python",
   "name": "python3"
  },
  "language_info": {
   "codemirror_mode": {
    "name": "ipython",
    "version": 3
   },
   "file_extension": ".py",
   "mimetype": "text/x-python",
   "name": "python",
   "nbconvert_exporter": "python",
   "pygments_lexer": "ipython3",
   "version": "3.9.12"
  }
 },
 "nbformat": 4,
 "nbformat_minor": 5
}
