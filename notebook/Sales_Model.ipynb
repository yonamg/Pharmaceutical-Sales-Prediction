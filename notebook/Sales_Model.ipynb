{
 "cells": [
  {
   "cell_type": "code",
   "execution_count": 1,
   "id": "ab351e3b",
   "metadata": {},
   "outputs": [],
   "source": [
    "#Auto relode the notebooks\n",
    "%load_ext autoreload\n",
    "%autoreload 2"
   ]
  },
  {
   "cell_type": "code",
   "execution_count": 2,
   "id": "b1a809d3",
   "metadata": {},
   "outputs": [],
   "source": [
    "#import python libraries\n",
    "import os\n",
    "import warnings\n",
    "import sys\n",
    "import datetime\n",
    "\n",
    "import dvc.api\n",
    "import pandas as pd\n",
    "import numpy as np\n",
    "from sklearn.metrics import mean_squared_error, mean_absolute_error, r2_score\n",
    "from sklearn.model_selection import train_test_split\n",
    "from sklearn.linear_model import ElasticNet, LogisticRegression, LinearRegression\n",
    "from sklearn.preprocessing import LabelEncoder\n",
    "from fast_ml.model_development import train_valid_test_split\n",
    "from sklearn.tree import DecisionTreeClassifier\n",
    "from urllib.parse import urlparse\n",
    "import mlflow\n",
    "import mlflow.sklearn\n",
    "from sklearn.preprocessing import StandardScaler, OrdinalEncoder\n",
    "from sklearn.impute import SimpleImputer\n",
    "from sklearn.compose import ColumnTransformer\n",
    "from sklearn.pipeline import Pipeline\n",
    "from sklearn.ensemble import RandomForestRegressor\n",
    "import pickle"
   ]
  },
  {
   "cell_type": "code",
   "execution_count": 5,
   "id": "c4f97c9f",
   "metadata": {},
   "outputs": [],
   "source": [
    "#import Scripts\n",
    "sys.path.append(os.path.abspath(os.path.join('../scripts')))\n",
    "from plot_data import PlotData\n",
    "from preprocessing import Preprocess\n",
    "from load_data import LoadData"
   ]
  },
  {
   "cell_type": "code",
   "execution_count": 6,
   "id": "a72097d4",
   "metadata": {},
   "outputs": [],
   "source": [
    "loader = LoadData()"
   ]
  },
  {
   "cell_type": "code",
   "execution_count": 7,
   "id": "1c5c5fd0",
   "metadata": {},
   "outputs": [],
   "source": [
    "#get the data\n",
    "train_path = 'data/train_cleaned.csv'\n",
    "test_path = 'data/test_cleaned.csv'\n",
    "repo = 'https://github.com/yonamg/Pharmaceutical-Sales-Prediction'\n",
    "tra_ver = '48de72c'\n",
    "tst_ver = '3e8c890'"
   ]
  },
  {
   "cell_type": "code",
   "execution_count": null,
   "id": "a6b48bc3",
   "metadata": {},
   "outputs": [],
   "source": []
  }
 ],
 "metadata": {
  "kernelspec": {
   "display_name": "Python 3 (ipykernel)",
   "language": "python",
   "name": "python3"
  },
  "language_info": {
   "codemirror_mode": {
    "name": "ipython",
    "version": 3
   },
   "file_extension": ".py",
   "mimetype": "text/x-python",
   "name": "python",
   "nbconvert_exporter": "python",
   "pygments_lexer": "ipython3",
   "version": "3.9.12"
  }
 },
 "nbformat": 4,
 "nbformat_minor": 5
}
