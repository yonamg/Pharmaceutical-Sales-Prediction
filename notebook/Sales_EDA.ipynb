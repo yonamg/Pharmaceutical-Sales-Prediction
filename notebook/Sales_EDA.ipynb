{
 "cells": [
  {
   "cell_type": "code",
   "execution_count": 47,
   "id": "4c30015f",
   "metadata": {},
   "outputs": [],
   "source": [
    "#Import Libraries\n",
    "import pandas as pd\n",
    "import numpy as np\n",
    "import matplotlib.pyplot as plt\n",
    "import seaborn as sns\n",
    "import sys, os"
   ]
  },
  {
   "cell_type": "code",
   "execution_count": 48,
   "id": "b4a70183",
   "metadata": {},
   "outputs": [],
   "source": [
    "#Import Requiered Modules\n",
    "sys.path.append(os.path.abspath(os.path.join('../scripts')))\n",
    "from load_data import LoadData\n",
    "from preprocessing import Preprocess\n",
    "from plot_data import PlotData"
   ]
  },
  {
   "cell_type": "code",
   "execution_count": 49,
   "id": "6a0011fa",
   "metadata": {},
   "outputs": [],
   "source": [
    "#initialize classes\n",
    "preprocess = Preprocess()\n",
    "plot = PlotData()"
   ]
  },
  {
   "cell_type": "code",
   "execution_count": 51,
   "id": "34aa4d6d",
   "metadata": {},
   "outputs": [
    {
     "name": "stdout",
     "output_type": "stream",
     "text": [
      "[07/Sep/2022 00:02:11] INFO - Successfully Instantiated load_data Class Object\n"
     ]
    }
   ],
   "source": [
    "loader = LoadData()"
   ]
  },
  {
   "cell_type": "code",
   "execution_count": 52,
   "id": "c91ed234",
   "metadata": {},
   "outputs": [
    {
     "name": "stderr",
     "output_type": "stream",
     "text": [
      "C:\\Users\\Machine\\Documents\\Week3\\Pharmaceutical-Sales-Prediction\\scripts\\load_data.py:45: DtypeWarning: Columns (7) have mixed types. Specify dtype option on import or set low_memory=False.\n",
      "  dataframe containing data extracted from the json file\n"
     ]
    }
   ],
   "source": [
    "#load datasets\n",
    "store_df = loader.read_csv('../data/store.csv')\n",
    "train_df = loader.read_csv('../data/train.csv')\n",
    "test_df = loader.read_csv('../data/test.csv')"
   ]
  },
  {
   "cell_type": "code",
   "execution_count": 53,
   "id": "e055021a",
   "metadata": {},
   "outputs": [
    {
     "name": "stdout",
     "output_type": "stream",
     "text": [
      "<class 'pandas.core.frame.DataFrame'>\n",
      "RangeIndex: 1115 entries, 0 to 1114\n",
      "Data columns (total 10 columns):\n",
      " #   Column                     Non-Null Count  Dtype  \n",
      "---  ------                     --------------  -----  \n",
      " 0   Store                      1115 non-null   int64  \n",
      " 1   StoreType                  1115 non-null   object \n",
      " 2   Assortment                 1115 non-null   object \n",
      " 3   CompetitionDistance        1112 non-null   float64\n",
      " 4   CompetitionOpenSinceMonth  761 non-null    float64\n",
      " 5   CompetitionOpenSinceYear   761 non-null    float64\n",
      " 6   Promo2                     1115 non-null   int64  \n",
      " 7   Promo2SinceWeek            571 non-null    float64\n",
      " 8   Promo2SinceYear            571 non-null    float64\n",
      " 9   PromoInterval              571 non-null    object \n",
      "dtypes: float64(5), int64(2), object(3)\n",
      "memory usage: 87.2+ KB\n"
     ]
    }
   ],
   "source": [
    "#Exploratory data overview of all each data set\n",
    "store_df.info()"
   ]
  },
  {
   "cell_type": "code",
   "execution_count": null,
   "id": "c1baa531",
   "metadata": {},
   "outputs": [],
   "source": []
  }
 ],
 "metadata": {
  "kernelspec": {
   "display_name": "Python 3 (ipykernel)",
   "language": "python",
   "name": "python3"
  },
  "language_info": {
   "codemirror_mode": {
    "name": "ipython",
    "version": 3
   },
   "file_extension": ".py",
   "mimetype": "text/x-python",
   "name": "python",
   "nbconvert_exporter": "python",
   "pygments_lexer": "ipython3",
   "version": "3.9.12"
  }
 },
 "nbformat": 4,
 "nbformat_minor": 5
}
