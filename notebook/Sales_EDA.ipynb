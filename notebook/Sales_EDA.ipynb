{
 "cells": [
  {
   "cell_type": "code",
   "execution_count": 47,
   "id": "ca413d76",
   "metadata": {},
   "outputs": [],
   "source": [
    "#Import Libraries\n",
    "import pandas as pd\n",
    "import numpy as np\n",
    "import matplotlib.pyplot as plt\n",
    "import seaborn as sns\n",
    "import sys, os"
   ]
  },
  {
   "cell_type": "code",
   "execution_count": 48,
   "id": "b4a70183",
   "metadata": {},
   "outputs": [],
   "source": [
    "#Import Requiered Modules\n",
    "sys.path.append(os.path.abspath(os.path.join('../scripts')))\n",
    "from load_data import LoadData\n",
    "from preprocessing import Preprocess\n",
    "from plot_data import PlotData"
   ]
  },
  {
   "cell_type": "code",
   "execution_count": 49,
   "id": "6a0011fa",
   "metadata": {},
   "outputs": [],
   "source": [
    "#initialize classes\n",
    "preprocess = Preprocess()\n",
    "plot = PlotData()"
   ]
  },
  {
   "cell_type": "code",
   "execution_count": 51,
   "id": "34aa4d6d",
   "metadata": {},
   "outputs": [
    {
     "name": "stdout",
     "output_type": "stream",
     "text": [
      "[07/Sep/2022 00:02:11] INFO - Successfully Instantiated load_data Class Object\n"
     ]
    }
   ],
   "source": [
    "loader = LoadData()"
   ]
  },
  {
   "cell_type": "code",
   "execution_count": null,
   "id": "8ed33aac",
   "metadata": {},
   "outputs": [],
   "source": []
  }
 ],
 "metadata": {
  "kernelspec": {
   "display_name": "Python 3 (ipykernel)",
   "language": "python",
   "name": "python3"
  },
  "language_info": {
   "codemirror_mode": {
    "name": "ipython",
    "version": 3
   },
   "file_extension": ".py",
   "mimetype": "text/x-python",
   "name": "python",
   "nbconvert_exporter": "python",
   "pygments_lexer": "ipython3",
   "version": "3.9.12"
  }
 },
 "nbformat": 4,
 "nbformat_minor": 5
}
