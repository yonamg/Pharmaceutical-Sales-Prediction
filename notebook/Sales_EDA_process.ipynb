{
 "cells": [
  {
   "cell_type": "code",
   "execution_count": 1,
   "id": "3f1bb02e",
   "metadata": {},
   "outputs": [],
   "source": [
    "#Import python libraries\n",
    "import dvc.api\n",
    "import pandas as pd\n",
    "from pandas_profiling import ProfileReport\n",
    "import numpy as np\n",
    "import matplotlib.pyplot as plt\n",
    "import seaborn as sns\n",
    "import sys, os"
   ]
  },
  {
   "cell_type": "code",
   "execution_count": 4,
   "id": "40f8a2c7",
   "metadata": {},
   "outputs": [],
   "source": [
    "# import requiered module\n",
    "sys.path.append(os.path.abspath(os.path.join('../scripts')))\n",
    "from load_data import LoadData\n",
    "from preprocessing import Preprocess\n",
    "from plot_data import PlotData"
   ]
  },
  {
   "cell_type": "code",
   "execution_count": 6,
   "id": "154b715d",
   "metadata": {},
   "outputs": [],
   "source": [
    "loader = LoadData()\n",
    "preprocess = Preprocess()\n",
    "plot = PlotData()"
   ]
  },
  {
   "cell_type": "code",
   "execution_count": 7,
   "id": "c33117f7",
   "metadata": {},
   "outputs": [],
   "source": [
    "train_path = 'data/train_merged.csv'\n",
    "test_path = 'data/test_merged.csv'\n",
    "repo = 'https://github.com/yonamg/Pharmaceutical-Sales-Prediction'\n",
    "version = 'tr_mv1'"
   ]
  },
  {
   "cell_type": "code",
   "execution_count": null,
   "id": "b1f23b63",
   "metadata": {},
   "outputs": [],
   "source": []
  }
 ],
 "metadata": {
  "kernelspec": {
   "display_name": "Python 3 (ipykernel)",
   "language": "python",
   "name": "python3"
  },
  "language_info": {
   "codemirror_mode": {
    "name": "ipython",
    "version": 3
   },
   "file_extension": ".py",
   "mimetype": "text/x-python",
   "name": "python",
   "nbconvert_exporter": "python",
   "pygments_lexer": "ipython3",
   "version": "3.9.12"
  }
 },
 "nbformat": 4,
 "nbformat_minor": 5
}
